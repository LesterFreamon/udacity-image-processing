{
 "cells": [
  {
   "cell_type": "markdown",
   "metadata": {},
   "source": [
    "# Create a color object"
   ]
  },
  {
   "cell_type": "code",
   "metadata": {
    "ExecuteTime": {
     "end_time": "2024-05-20T19:51:26.033528Z",
     "start_time": "2024-05-20T19:51:25.701092Z"
    }
   },
   "source": [
    "# Notice we are importing the color class!\n",
    "\n",
    "import numpy as np\n",
    "import color\n",
    "\n",
    "%matplotlib inline\n",
    "%load_ext autoreload\n",
    "%autoreload 2"
   ],
   "outputs": [],
   "execution_count": 1
  },
  {
   "cell_type": "markdown",
   "metadata": {},
   "source": [
    "### Define the color and print it out"
   ]
  },
  {
   "cell_type": "code",
   "metadata": {
    "ExecuteTime": {
     "end_time": "2024-05-20T19:51:26.615875Z",
     "start_time": "2024-05-20T19:51:26.175842Z"
    }
   },
   "source": [
    "# r, g, b\n",
    "r = 200\n",
    "g = 0\n",
    "b = 200\n",
    "\n",
    "# Create the color object\n",
    "test_color = color.Color(r, g, b)\n",
    "\n",
    "# This will throw an error if the class code is incomplete\n",
    "print(test_color)"
   ],
   "outputs": [
    {
     "ename": "AttributeError",
     "evalue": "'Color' object has no attribute 'g'",
     "output_type": "error",
     "traceback": [
      "\u001B[0;31m---------------------------------------------------------------------------\u001B[0m",
      "\u001B[0;31mAttributeError\u001B[0m                            Traceback (most recent call last)",
      "Cell \u001B[0;32mIn[2], line 10\u001B[0m\n\u001B[1;32m      7\u001B[0m test_color \u001B[38;5;241m=\u001B[39m color\u001B[38;5;241m.\u001B[39mColor(r, g, b)\n\u001B[1;32m      9\u001B[0m \u001B[38;5;66;03m# This will throw an error if the class code is incomplete\u001B[39;00m\n\u001B[0;32m---> 10\u001B[0m \u001B[38;5;28;43mprint\u001B[39;49m\u001B[43m(\u001B[49m\u001B[43mtest_color\u001B[49m\u001B[43m)\u001B[49m\n",
      "File \u001B[0;32m~/Desktop/learning/udacity/udacity-image-processing/CVND_Localization_Exercises-master/4_5_State_and_Motion/color.py:26\u001B[0m, in \u001B[0;36mColor.__repr__\u001B[0;34m(self)\u001B[0m\n\u001B[1;32m     23\u001B[0m \u001B[38;5;28;01mdef\u001B[39;00m \u001B[38;5;21m__repr__\u001B[39m(\u001B[38;5;28mself\u001B[39m):\n\u001B[1;32m     24\u001B[0m \u001B[38;5;250m    \u001B[39m\u001B[38;5;124;03m'''Display a color swatch and then return a text description of r,g,b values.'''\u001B[39;00m\n\u001B[0;32m---> 26\u001B[0m     plt\u001B[38;5;241m.\u001B[39mimshow([[(\u001B[38;5;28mself\u001B[39m\u001B[38;5;241m.\u001B[39mr\u001B[38;5;241m/\u001B[39m\u001B[38;5;241m255\u001B[39m, \u001B[38;5;28;43mself\u001B[39;49m\u001B[38;5;241;43m.\u001B[39;49m\u001B[43mg\u001B[49m\u001B[38;5;241m/\u001B[39m\u001B[38;5;241m255\u001B[39m, \u001B[38;5;28mself\u001B[39m\u001B[38;5;241m.\u001B[39mb\u001B[38;5;241m/\u001B[39m\u001B[38;5;241m255\u001B[39m)]])\n\u001B[1;32m     28\u001B[0m     \u001B[38;5;66;03m## TODO: Write a string representation for the color\u001B[39;00m\n\u001B[1;32m     29\u001B[0m     \u001B[38;5;66;03m## ex. \"rgb = [self.r, self.g, self.b]\"\u001B[39;00m\n\u001B[1;32m     30\u001B[0m     \u001B[38;5;66;03m## Right now this returns an empty string\u001B[39;00m\n\u001B[1;32m     31\u001B[0m     string \u001B[38;5;241m=\u001B[39m \u001B[38;5;124m'\u001B[39m\u001B[38;5;124m'\u001B[39m\n",
      "\u001B[0;31mAttributeError\u001B[0m: 'Color' object has no attribute 'g'"
     ]
    }
   ],
   "execution_count": 2
  },
  {
   "cell_type": "code",
   "execution_count": null,
   "metadata": {
    "collapsed": true
   },
   "outputs": [],
   "source": []
  }
 ],
 "metadata": {
  "anaconda-cloud": {},
  "kernelspec": {
   "display_name": "Python 3",
   "language": "python",
   "name": "python3"
  },
  "language_info": {
   "codemirror_mode": {
    "name": "ipython",
    "version": 3
   },
   "file_extension": ".py",
   "mimetype": "text/x-python",
   "name": "python",
   "nbconvert_exporter": "python",
   "pygments_lexer": "ipython3",
   "version": "3.6.1"
  }
 },
 "nbformat": 4,
 "nbformat_minor": 1
}
