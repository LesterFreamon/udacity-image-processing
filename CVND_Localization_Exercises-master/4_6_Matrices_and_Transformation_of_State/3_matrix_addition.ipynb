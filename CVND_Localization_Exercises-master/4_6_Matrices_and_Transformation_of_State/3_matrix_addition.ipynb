{
 "cells": [
  {
   "cell_type": "markdown",
   "metadata": {},
   "source": [
    "# Matrix Addition\n",
    "\n",
    "In this exercises, you will write a function that accepts two matrices and outputs their sum. Think about how you could do this with a for loop nested inside another for loop."
   ]
  },
  {
   "metadata": {
    "ExecuteTime": {
     "end_time": "2024-07-14T02:06:06.736592Z",
     "start_time": "2024-07-14T02:06:06.677377Z"
    }
   },
   "cell_type": "code",
   "source": "import numpy as np",
   "outputs": [],
   "execution_count": 1
  },
  {
   "cell_type": "code",
   "metadata": {
    "collapsed": true,
    "ExecuteTime": {
     "end_time": "2024-07-14T02:06:24.967410Z",
     "start_time": "2024-07-14T02:06:24.961184Z"
    }
   },
   "source": [
    "### TODO: Write a function called matrix_addition that \n",
    "###     calculate the sum of two matrices\n",
    "###\n",
    "### INPUTS:\n",
    "###    matrix A _ an m x n matrix\n",
    "###    matrix B _ an m x n matrix\n",
    "###\n",
    "### OUPUT:\n",
    "###   matrixSum _ sum of matrix A + matrix B\n",
    "\n",
    "def matrix_addition(matrixA, matrixB):\n",
    "\n",
    "    # initialize matrix to hold the results\n",
    "    return matrixA + matrixB\n",
    "\n",
    "### When you run this code cell, your matrix addition function\n",
    "### will run on the A and B matrix.\n",
    "\n",
    "A = np.array([\n",
    "    [2,5,1], \n",
    "    [6,9,7.4], \n",
    "    [2,1,1], \n",
    "    [8,5,3], \n",
    "    [2,1,6], \n",
    "    [5,3,1]\n",
    "])\n",
    "\n",
    "B = np.array([\n",
    "    [7, 19, 5.1], \n",
    "    [6.5,9.2,7.4], \n",
    "    [2.8,1.5,12], \n",
    "    [8,5,3], \n",
    "    [2,1,6], \n",
    "    [2,33,1]\n",
    "])\n",
    "\n",
    "print(matrix_addition(A, B))"
   ],
   "outputs": [
    {
     "name": "stdout",
     "output_type": "stream",
     "text": [
      "[[ 9.  24.   6.1]\n",
      " [12.5 18.2 14.8]\n",
      " [ 4.8  2.5 13. ]\n",
      " [16.  10.   6. ]\n",
      " [ 4.   2.  12. ]\n",
      " [ 7.  36.   2. ]]\n"
     ]
    }
   ],
   "execution_count": 3
  },
  {
   "cell_type": "markdown",
   "metadata": {},
   "source": [
    "### Vectors versus Matrices\n",
    "\n",
    "What happens if you run the cell below? Here you are adding two vectors together. Does your code still work?"
   ]
  },
  {
   "cell_type": "code",
   "metadata": {
    "collapsed": true,
    "ExecuteTime": {
     "end_time": "2024-07-14T02:07:07.077259Z",
     "start_time": "2024-07-14T02:07:07.072444Z"
    }
   },
   "source": [
    "\n",
    "print(matrix_addition(np.array([4, 2, 1]), np.array([5, 2, 7])))"
   ],
   "outputs": [
    {
     "name": "stdout",
     "output_type": "stream",
     "text": [
      "[9 4 8]\n"
     ]
    }
   ],
   "execution_count": 5
  },
  {
   "cell_type": "markdown",
   "metadata": {},
   "source": [
    "Why did this error occur? Because your code assumes that a matrix is a two-dimensional grid represented by a list of lists. But a horizontal vector, which can also be considered a matrix, is a one-dimensional grid represented by a single list.\n",
    "\n",
    "What happens if you store a vector as a list of lists like [[4, 2, 1]] and [[5, 2, 7]]? Does your function work? Run the code cell below to find out."
   ]
  },
  {
   "cell_type": "code",
   "metadata": {
    "collapsed": true,
    "ExecuteTime": {
     "end_time": "2024-07-14T02:07:21.807967Z",
     "start_time": "2024-07-14T02:07:21.803968Z"
    }
   },
   "source": "print(matrix_addition(np.array([[4, 2, 1]]), np.array([[5, 2, 7]])))",
   "outputs": [
    {
     "name": "stdout",
     "output_type": "stream",
     "text": [
      "[[9 4 8]]\n"
     ]
    }
   ],
   "execution_count": 6
  },
  {
   "cell_type": "markdown",
   "metadata": {},
   "source": [
    "### Test your Code\n",
    "Run the cell below. If there is no output, then your results are as expected."
   ]
  },
  {
   "cell_type": "code",
   "metadata": {
    "collapsed": true,
    "ExecuteTime": {
     "end_time": "2024-07-14T02:08:43.109946Z",
     "start_time": "2024-07-14T02:08:43.103766Z"
    }
   },
   "source": [
    "assert (matrix_addition(np.array([\n",
    "    [1, 2, 3]]), \n",
    "    np.array([[4, 5, 6]])) == np.array([[5, 7, 9]])).all()\n",
    "\n",
    "assert (matrix_addition(\n",
    "    np.array([[4]]), np.array([\n",
    "    [5]])) == np.array([[9]])).all()\n",
    "\n",
    "assert (matrix_addition(np.array([[1, 2, 3], \n",
    "                        [4, 5, 6]]), \n",
    "                       np.array([[7, 8, 9], \n",
    "                        [10, 11, 12]])) == np.array([[8, 10, 12], \n",
    "                                           [14, 16, 18]])).all()"
   ],
   "outputs": [],
   "execution_count": 7
  },
  {
   "metadata": {},
   "cell_type": "code",
   "outputs": [],
   "execution_count": null,
   "source": ""
  }
 ],
 "metadata": {
  "kernelspec": {
   "display_name": "Python 3",
   "language": "python",
   "name": "python3"
  },
  "language_info": {
   "codemirror_mode": {
    "name": "ipython",
    "version": 3
   },
   "file_extension": ".py",
   "mimetype": "text/x-python",
   "name": "python",
   "nbconvert_exporter": "python",
   "pygments_lexer": "ipython3",
   "version": "3.6.1"
  }
 },
 "nbformat": 4,
 "nbformat_minor": 2
}
