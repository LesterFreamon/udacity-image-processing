{
 "cells": [
  {
   "cell_type": "markdown",
   "metadata": {},
   "source": [
    "# Transpose of a Matrix\n",
    "\n",
    "In this set of exercises, you will work with the transpose of a matrix.\n",
    "\n",
    "Your first task is to write a funciton that takes the transpose of a matrix. Think about how to use nested for loops efficiently.\n",
    "\n",
    "The second task will be to write a new matrix multiplication function that takes advantage of your matrix transposition function."
   ]
  },
  {
   "metadata": {
    "ExecuteTime": {
     "end_time": "2024-07-14T02:13:51.058072Z",
     "start_time": "2024-07-14T02:13:50.986378Z"
    }
   },
   "cell_type": "code",
   "source": "import numpy as np",
   "outputs": [],
   "execution_count": 1
  },
  {
   "cell_type": "code",
   "metadata": {
    "collapsed": true,
    "ExecuteTime": {
     "end_time": "2024-07-14T02:14:06.512615Z",
     "start_time": "2024-07-14T02:14:06.508412Z"
    }
   },
   "source": [
    "### TODO: Write a function called transpose() that \n",
    "###       takes in a matrix and outputs the transpose of the matrix\n",
    "\n",
    "def transpose(matrix):\n",
    "    return np.transpose(np.array(matrix))"
   ],
   "outputs": [],
   "execution_count": 2
  },
  {
   "cell_type": "code",
   "metadata": {
    "collapsed": true,
    "ExecuteTime": {
     "end_time": "2024-07-14T02:14:44.682919Z",
     "start_time": "2024-07-14T02:14:44.678293Z"
    }
   },
   "source": [
    "### TODO: Run the code in the cell below. If there is no \n",
    "###       output, then your answers were as expected\n",
    "\n",
    "assert (transpose([[5, 4, 1, 7], [2, 1, 3, 5]]) == np.array([[5, 2], [4, 1], [1, 3], [7, 5]])).all()\n",
    "assert (transpose([[5]]) == np.array([[5]])).all()\n",
    "assert (transpose([[5, 3, 2], [7, 1, 4], [1, 1, 2], [8, 9, 1]]) == np.array([[5, 7, 1, 8], [3, 1, 1, 9], [2, 4, 2, 1]])).all()\n"
   ],
   "outputs": [],
   "execution_count": 3
  },
  {
   "cell_type": "markdown",
   "metadata": {},
   "source": [
    "### Matrix Multiplication\n",
    "\n",
    "Now that you have your transpose function working, write a matrix multiplication function that takes advantage of the transpose. \n",
    "\n",
    "As part of the matrix multiplication code, you might want to re-use your dot product function from the matrix multiplication exercises. But you won't need your get_row and get_column functions anymore because the tranpose essentially takes care of turning columns into row vectors.\n",
    "\n",
    "Remember that if matrix A is mxn and matrix B is nxp, then the resulting product will be mxp."
   ]
  },
  {
   "cell_type": "code",
   "metadata": {
    "collapsed": true,
    "ExecuteTime": {
     "end_time": "2024-07-14T02:15:40.456027Z",
     "start_time": "2024-07-14T02:15:40.452038Z"
    }
   },
   "source": [
    "\n",
    "### TODO: Write a function called matrix_multiplication() that\n",
    "###       takes in two matrices and outputs the product of the two\n",
    "###       matrices\n",
    "\n",
    "### TODO: Copy your dot_product() function here so that you can\n",
    "###       use it in your matrix_multiplication function\n",
    "\n",
    "def dot_product(vectorA, vectorB):\n",
    "    return np.dot(np.array(vectorA), np.array(vectorB))\n",
    "\n",
    "def matrix_multiplication(matrixA, matrixB):\n",
    "    return np.matmul(np.array(matrixA), np.array(matrixB))"
   ],
   "outputs": [],
   "execution_count": 4
  },
  {
   "cell_type": "code",
   "metadata": {
    "collapsed": true,
    "ExecuteTime": {
     "end_time": "2024-07-14T02:16:31.928134Z",
     "start_time": "2024-07-14T02:16:31.918852Z"
    }
   },
   "source": [
    "### TODO: Run the code in the cell below. If there is no \n",
    "###       output, then your answers were as expected\n",
    "\n",
    "assert (matrix_multiplication([[5, 3, 1], \n",
    "                              [6, 2, 7]], \n",
    "                             [[4, 2], \n",
    "                              [8, 1], \n",
    "                              [7, 4]]) == np.array([[51, 17], \n",
    "                                           [89, 42]])).all()\n",
    "\n",
    "assert (matrix_multiplication([[5]], [[4]]) == np.array([[20]])).all()\n",
    "\n",
    "assert (matrix_multiplication([[2, 8, 1, 2, 9],\n",
    "                             [7, 9, 1, 10, 5],\n",
    "                             [8, 4, 11, 98, 2],\n",
    "                             [5, 5, 4, 4, 1]], \n",
    "                             [[4], \n",
    "                              [2], \n",
    "                              [17], \n",
    "                              [80], \n",
    "                              [2]]) == np.array([[219], [873], [8071], [420]])).all()\n",
    "\n",
    "\n",
    "assert (matrix_multiplication([[2, 8, 1, 2, 9],\n",
    "                             [7, 9, 1, 10, 5],\n",
    "                             [8, 4, 11, 98, 2],\n",
    "                             [5, 5, 4, 4, 1]], \n",
    "                             [[4, 1, 2], \n",
    "                              [2, 3, 1], \n",
    "                              [17, 8, 1], \n",
    "                              [1, 3, 0], \n",
    "                              [2, 1, 4]]) == np.array([[61, 49, 49], [83, 77, 44], [329, 404, 39], [104, 65, 23]])).all()"
   ],
   "outputs": [],
   "execution_count": 5
  },
  {
   "metadata": {},
   "cell_type": "code",
   "outputs": [],
   "execution_count": null,
   "source": ""
  }
 ],
 "metadata": {
  "kernelspec": {
   "display_name": "Python 3",
   "language": "python",
   "name": "python3"
  },
  "language_info": {
   "codemirror_mode": {
    "name": "ipython",
    "version": 3
   },
   "file_extension": ".py",
   "mimetype": "text/x-python",
   "name": "python",
   "nbconvert_exporter": "python",
   "pygments_lexer": "ipython3",
   "version": "3.6.1"
  }
 },
 "nbformat": 4,
 "nbformat_minor": 2
}
