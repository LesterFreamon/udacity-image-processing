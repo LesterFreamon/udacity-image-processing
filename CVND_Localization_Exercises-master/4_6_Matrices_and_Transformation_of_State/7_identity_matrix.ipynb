{
 "cells": [
  {
   "cell_type": "markdown",
   "metadata": {
    "collapsed": true
   },
   "source": [
    "# Identity Matrix\n",
    "\n",
    "Write a function called identity_matrix that outputs an identity matrix of size n.\n",
    "\n",
    "INPUT\n",
    "* n - size of the Identity matrix\n",
    "\n",
    "OUPUT\n",
    "* identity matrix as a list of lists\n",
    "\n",
    "\n",
    "HINTS\n",
    "* nested for loops will be helpful\n",
    "* the one values are always on the diagonal. To access diagonal values in a list of lists will occur where i = j\n",
    "* whenever i does not equal j, the value in the matrix should be 0"
   ]
  },
  {
   "metadata": {
    "ExecuteTime": {
     "end_time": "2024-07-14T02:18:06.574637Z",
     "start_time": "2024-07-14T02:18:06.505331Z"
    }
   },
   "cell_type": "code",
   "source": "import numpy as np",
   "outputs": [],
   "execution_count": 1
  },
  {
   "cell_type": "code",
   "metadata": {
    "collapsed": true,
    "ExecuteTime": {
     "end_time": "2024-07-14T02:18:18.258030Z",
     "start_time": "2024-07-14T02:18:18.253660Z"
    }
   },
   "source": [
    "def identity_matrix(n):\n",
    "    return np.identity(n)"
   ],
   "outputs": [],
   "execution_count": 2
  },
  {
   "cell_type": "code",
   "metadata": {
    "collapsed": true,
    "ExecuteTime": {
     "end_time": "2024-07-14T02:19:07.093681Z",
     "start_time": "2024-07-14T02:19:07.087400Z"
    }
   },
   "source": [
    "# TODO: Run this cell to see if your answers are as expected\n",
    "\n",
    "assert (identity_matrix(1) == np.array([[1]])).all()\n",
    "\n",
    "assert (identity_matrix(2) == np.array([[1, 0], \n",
    "                             [0, 1]])).all()\n",
    "\n",
    "assert (identity_matrix(3) == np.array([[1, 0, 0],\n",
    "                             [0, 1, 0],\n",
    "                             [0, 0, 1]])).all()\n",
    "\n",
    "assert (identity_matrix(4) == np.array([[1, 0, 0, 0],\n",
    "                             [0, 1, 0, 0],\n",
    "                             [0, 0, 1, 0],\n",
    "                             [0, 0, 0, 1]])).all()"
   ],
   "outputs": [],
   "execution_count": 3
  },
  {
   "cell_type": "markdown",
   "metadata": {},
   "source": [
    "# Multiplication with the Identity Matrix\n",
    "\n",
    "Copy your matrix multiplication function in the code cell below. Try multiplying a matrix with an identity matrix to prove to yourself that the identity matrix is analogous to multiplyin a scalar by one."
   ]
  },
  {
   "cell_type": "code",
   "metadata": {
    "collapsed": true,
    "ExecuteTime": {
     "end_time": "2024-07-14T02:19:29.842596Z",
     "start_time": "2024-07-14T02:19:29.839974Z"
    }
   },
   "source": [
    "# TODO: Copy your matrix multiplication function and any other helper\n",
    "# funcitons here from the previous exercises\n",
    "\n",
    "def matrix_multiplication(matrixA, matrixB):\n",
    "    return np.matmul(np.array(matrixA), np.array(matrixB))"
   ],
   "outputs": [],
   "execution_count": 4
  },
  {
   "cell_type": "code",
   "metadata": {
    "collapsed": true,
    "ExecuteTime": {
     "end_time": "2024-07-14T02:19:49.032694Z",
     "start_time": "2024-07-14T02:19:49.029812Z"
    }
   },
   "source": [
    "# TODO: Run this cell to see if your results are as expected.\n",
    "\n",
    "m = np.array([[5, 9, 2, 4],\n",
    "     [3, 8, 5, 6],\n",
    "     [1, 0, 0, 15]])\n",
    "\n",
    "assert (matrix_multiplication(m, identity_matrix(4)) == m).all()\n",
    "assert (matrix_multiplication(identity_matrix(3), m) == m).all()"
   ],
   "outputs": [],
   "execution_count": 5
  },
  {
   "metadata": {},
   "cell_type": "code",
   "outputs": [],
   "execution_count": null,
   "source": ""
  }
 ],
 "metadata": {
  "kernelspec": {
   "display_name": "Python 3",
   "language": "python",
   "name": "python3"
  },
  "language_info": {
   "codemirror_mode": {
    "name": "ipython",
    "version": 3
   },
   "file_extension": ".py",
   "mimetype": "text/x-python",
   "name": "python",
   "nbconvert_exporter": "python",
   "pygments_lexer": "ipython3",
   "version": "3.6.1"
  }
 },
 "nbformat": 4,
 "nbformat_minor": 2
}
