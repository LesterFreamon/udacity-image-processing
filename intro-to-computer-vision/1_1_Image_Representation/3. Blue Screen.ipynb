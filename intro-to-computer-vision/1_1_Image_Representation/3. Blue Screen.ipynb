{
 "cells": [
  {
   "cell_type": "markdown",
   "metadata": {},
   "source": [
    "# Color Threshold, Blue Screen"
   ]
  },
  {
   "cell_type": "markdown",
   "metadata": {},
   "source": [
    "### Import resources"
   ]
  },
  {
   "cell_type": "code",
   "metadata": {
    "ExecuteTime": {
     "end_time": "2024-04-30T21:26:13.936638Z",
     "start_time": "2024-04-30T21:26:13.578667Z"
    }
   },
   "source": [
    "import matplotlib.pyplot as plt\n",
    "import numpy as np\n",
    "import cv2\n",
    "\n",
    "%matplotlib inline"
   ],
   "execution_count": 1,
   "outputs": []
  },
  {
   "cell_type": "markdown",
   "metadata": {},
   "source": [
    "### Read in and display the image"
   ]
  },
  {
   "cell_type": "code",
   "metadata": {
    "scrolled": true,
    "ExecuteTime": {
     "end_time": "2024-04-30T21:26:13.946205Z",
     "start_time": "2024-04-30T21:26:13.937978Z"
    }
   },
   "source": [
    "# Read in the image\n",
    "image = cv2.imread('images/pizza_bluescreen.jpg')\n",
    "\n",
    "# Print out the type of image data and its dimensions (height, width, and color)\n",
    "print('This image is:', type(image), \n",
    "      ' with dimensions:', image.shape)\n"
   ],
   "execution_count": 2,
   "outputs": []
  },
  {
   "cell_type": "code",
   "metadata": {
    "ExecuteTime": {
     "end_time": "2024-04-30T21:26:18.679658Z",
     "start_time": "2024-04-30T21:26:18.515937Z"
    }
   },
   "source": [
    "# Make a copy of the image\n",
    "image_copy = np.copy(image)\n",
    "\n",
    "# Change color to RGB (from BGR)\n",
    "image_copy = cv2.cvtColor(image_copy, cv2.COLOR_BGR2RGB)\n",
    "\n",
    "# Display the image copy\n",
    "plt.imshow(image_copy)\n"
   ],
   "execution_count": 4,
   "outputs": []
  },
  {
   "cell_type": "markdown",
   "metadata": {},
   "source": [
    "### Define the color threshold"
   ]
  },
  {
   "cell_type": "code",
   "metadata": {
    "ExecuteTime": {
     "end_time": "2024-04-30T21:26:21.215841Z",
     "start_time": "2024-04-30T21:26:21.212804Z"
    }
   },
   "source": [
    "## TODO: Define the color selection boundaries in RGB values\n",
    "# play around with these values until you isolate the blue background\n",
    "lower_blue = np.array([0,0,200]) \n",
    "upper_blue = np.array([250,250,255])\n"
   ],
   "execution_count": 5,
   "outputs": []
  },
  {
   "cell_type": "markdown",
   "metadata": {},
   "source": [
    "### Create a mask"
   ]
  },
  {
   "cell_type": "code",
   "metadata": {
    "ExecuteTime": {
     "end_time": "2024-04-30T21:26:22.811803Z",
     "start_time": "2024-04-30T21:26:22.683725Z"
    }
   },
   "source": [
    "# Define the masked area\n",
    "mask = cv2.inRange(image_copy, lower_blue, upper_blue)\n",
    "\n",
    "# Vizualize the mask\n",
    "plt.imshow(mask, cmap='gray')"
   ],
   "execution_count": 6,
   "outputs": []
  },
  {
   "cell_type": "code",
   "metadata": {
    "ExecuteTime": {
     "end_time": "2024-04-30T21:26:24.786633Z",
     "start_time": "2024-04-30T21:26:24.622126Z"
    }
   },
   "source": [
    "# Mask the image to let the pizza show through\n",
    "masked_image = np.copy(image_copy)\n",
    "\n",
    "masked_image[mask != 0] = [0, 0, 0]\n",
    "\n",
    "# Display it!\n",
    "plt.imshow(masked_image)\n"
   ],
   "execution_count": 7,
   "outputs": []
  },
  {
   "cell_type": "markdown",
   "metadata": {},
   "source": [
    "### Mask and add a background image"
   ]
  },
  {
   "cell_type": "code",
   "metadata": {
    "ExecuteTime": {
     "end_time": "2024-04-30T21:26:28.286130Z",
     "start_time": "2024-04-30T21:26:28.023707Z"
    }
   },
   "source": [
    "# Load in a background image, and convert it to RGB \n",
    "background_image = cv2.imread('images/space_background.jpg')\n",
    "background_image = cv2.cvtColor(background_image, cv2.COLOR_BGR2RGB)\n",
    "\n",
    "# Crop it to the right size (514x816)\n",
    "crop_background = background_image[0:514, 0:816]\n",
    "\n",
    "# Mask the cropped background so that the pizza area is blocked\n",
    "crop_background[mask == 0] = [0, 0, 0]\n",
    "\n",
    "# Display the background\n",
    "plt.imshow(crop_background)"
   ],
   "execution_count": 8,
   "outputs": []
  },
  {
   "cell_type": "markdown",
   "metadata": {},
   "source": [
    "### Create a complete image"
   ]
  },
  {
   "cell_type": "code",
   "metadata": {
    "ExecuteTime": {
     "end_time": "2024-04-30T21:26:30.269848Z",
     "start_time": "2024-04-30T21:26:30.063680Z"
    }
   },
   "source": [
    "# Add the two images together to create a complete image!\n",
    "complete_image = masked_image + crop_background\n",
    "\n",
    "# Display the result\n",
    "plt.imshow(complete_image)"
   ],
   "execution_count": 9,
   "outputs": []
  },
  {
   "cell_type": "code",
   "execution_count": null,
   "metadata": {},
   "source": [],
   "outputs": []
  }
 ],
 "metadata": {
  "anaconda-cloud": {},
  "kernelspec": {
   "display_name": "Python 3",
   "language": "python",
   "name": "python3"
  },
  "language_info": {
   "codemirror_mode": {
    "name": "ipython",
    "version": 3
   },
   "file_extension": ".py",
   "mimetype": "text/x-python",
   "name": "python",
   "nbconvert_exporter": "python",
   "pygments_lexer": "ipython3",
   "version": "3.6.3"
  }
 },
 "nbformat": 4,
 "nbformat_minor": 1
}
