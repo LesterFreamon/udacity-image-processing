{
 "cells": [
  {
   "cell_type": "markdown",
   "metadata": {},
   "source": [
    "# Color Threshold, Green Screen"
   ]
  },
  {
   "cell_type": "markdown",
   "metadata": {},
   "source": [
    "### Import resources"
   ]
  },
  {
   "cell_type": "code",
   "metadata": {
    "collapsed": true,
    "ExecuteTime": {
     "end_time": "2024-04-30T21:28:24.822479Z",
     "start_time": "2024-04-30T21:28:24.429832Z"
    }
   },
   "source": [
    "import matplotlib.pyplot as plt\n",
    "import matplotlib.image as mpimg\n",
    "\n",
    "import numpy as np\n",
    "import cv2\n",
    "\n",
    "%matplotlib inline"
   ],
   "execution_count": 1,
   "outputs": []
  },
  {
   "cell_type": "markdown",
   "metadata": {},
   "source": [
    "### Read in and display the image"
   ]
  },
  {
   "cell_type": "code",
   "metadata": {
    "scrolled": true,
    "ExecuteTime": {
     "end_time": "2024-04-30T21:28:25.673917Z",
     "start_time": "2024-04-30T21:28:25.660465Z"
    }
   },
   "source": [
    "# Read in the image\n",
    "image = mpimg.imread('images/car_green_screen.jpg')\n",
    "\n",
    "# Print out the image dimensions (height, width, and depth (color))\n",
    "print('Image dimensions:', image.shape)\n"
   ],
   "execution_count": 2,
   "outputs": []
  },
  {
   "cell_type": "code",
   "metadata": {
    "ExecuteTime": {
     "end_time": "2024-04-30T21:28:26.499764Z",
     "start_time": "2024-04-30T21:28:26.335807Z"
    }
   },
   "source": [
    "# Display the image\n",
    "plt.imshow(image)"
   ],
   "execution_count": 3,
   "outputs": []
  },
  {
   "cell_type": "markdown",
   "metadata": {},
   "source": [
    "### Define the color threshold"
   ]
  },
  {
   "cell_type": "code",
   "metadata": {
    "ExecuteTime": {
     "end_time": "2024-04-30T21:31:19.058817Z",
     "start_time": "2024-04-30T21:31:19.056200Z"
    }
   },
   "source": [
    "## TODO: Define our color selection boundaries in RGB values\n",
    "lower_green = np.array([0,200,0]) \n",
    "upper_green = np.array([250,255,250])\n"
   ],
   "execution_count": 12,
   "outputs": []
  },
  {
   "cell_type": "markdown",
   "metadata": {},
   "source": [
    "### Create a mask"
   ]
  },
  {
   "cell_type": "code",
   "metadata": {
    "ExecuteTime": {
     "end_time": "2024-04-30T21:31:19.547523Z",
     "start_time": "2024-04-30T21:31:19.416059Z"
    }
   },
   "source": [
    "# Define the masked area\n",
    "mask = cv2.inRange(image, lower_green, upper_green)\n",
    "\n",
    "# Vizualize the mask\n",
    "plt.imshow(mask, cmap='gray')"
   ],
   "execution_count": 13,
   "outputs": []
  },
  {
   "cell_type": "code",
   "metadata": {
    "ExecuteTime": {
     "end_time": "2024-04-30T21:31:21.559658Z",
     "start_time": "2024-04-30T21:31:21.407586Z"
    }
   },
   "source": [
    "# Mask the image to let the car show through\n",
    "masked_image = np.copy(image)\n",
    "\n",
    "masked_image[mask != 0] = [0, 0, 0]\n",
    "\n",
    "# Display it!\n",
    "plt.imshow(masked_image)\n"
   ],
   "execution_count": 14,
   "outputs": []
  },
  {
   "cell_type": "markdown",
   "metadata": {},
   "source": [
    "### Mask and add a background image"
   ]
  },
  {
   "cell_type": "code",
   "metadata": {
    "ExecuteTime": {
     "end_time": "2024-04-30T21:34:09.791645Z",
     "start_time": "2024-04-30T21:34:09.587884Z"
    }
   },
   "source": [
    "# Load in a background image, and convert it to RGB \n",
    "background_image = mpimg.imread('images/sky.jpg')\n",
    "background_image = cv2.cvtColor(background_image, cv2.COLOR_BGR2RGB)\n",
    "\n",
    "## TODO: Crop it or resize the background to be the right size (450x660)\n",
    "crop_background =  background_image[0:450, 0:660]\n",
    "\n",
    "## TODO: Mask the cropped background so that the car area is blocked\n",
    "# Hint mask the opposite area of the previous image\n",
    "crop_background[mask == 0] = [0, 0, 0]\n",
    "\n",
    "## TODO: Display the background and make sure \n",
    "plt.imshow(crop_background)"
   ],
   "execution_count": 16,
   "outputs": []
  },
  {
   "cell_type": "markdown",
   "metadata": {},
   "source": [
    "### Create a complete image"
   ]
  },
  {
   "cell_type": "code",
   "metadata": {
    "ExecuteTime": {
     "end_time": "2024-04-30T21:34:27.426807Z",
     "start_time": "2024-04-30T21:34:27.202399Z"
    }
   },
   "source": [
    "## TODO: Add the two images together to create a complete image!\n",
    "# complete_image = masked_image + crop_background\n",
    "complete_image = masked_image + crop_background\n",
    "\n",
    "plt.imshow(complete_image)"
   ],
   "execution_count": 17,
   "outputs": []
  },
  {
   "cell_type": "code",
   "execution_count": null,
   "metadata": {
    "collapsed": true
   },
   "source": [],
   "outputs": []
  }
 ],
 "metadata": {
  "anaconda-cloud": {},
  "kernelspec": {
   "display_name": "Python 3",
   "language": "python",
   "name": "python3"
  },
  "language_info": {
   "codemirror_mode": {
    "name": "ipython",
    "version": 3
   },
   "file_extension": ".py",
   "mimetype": "text/x-python",
   "name": "python",
   "nbconvert_exporter": "python",
   "pygments_lexer": "ipython3",
   "version": "3.6.3"
  }
 },
 "nbformat": 4,
 "nbformat_minor": 1
}
