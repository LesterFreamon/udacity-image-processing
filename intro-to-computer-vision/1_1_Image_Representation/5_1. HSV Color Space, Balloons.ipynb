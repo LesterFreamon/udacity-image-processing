{
 "cells": [
  {
   "cell_type": "markdown",
   "metadata": {},
   "source": [
    "# HSV Color Space, Balloons"
   ]
  },
  {
   "cell_type": "markdown",
   "metadata": {},
   "source": [
    "### Import resources and display image"
   ]
  },
  {
   "cell_type": "code",
   "metadata": {
    "ExecuteTime": {
     "end_time": "2024-04-30T21:35:48.768410Z",
     "start_time": "2024-04-30T21:35:48.363003Z"
    }
   },
   "source": [
    "import numpy as np\n",
    "import matplotlib.pyplot as plt\n",
    "import cv2\n"
   ],
   "execution_count": 1,
   "outputs": []
  },
  {
   "cell_type": "code",
   "metadata": {
    "scrolled": true,
    "ExecuteTime": {
     "end_time": "2024-04-30T21:35:49.050958Z",
     "start_time": "2024-04-30T21:35:48.769839Z"
    }
   },
   "source": [
    "%matplotlib inline\n",
    "\n",
    "# Read in the image\n",
    "image = cv2.imread('images/water_balloons.jpg')\n",
    "\n",
    "# Make a copy of the image\n",
    "image_copy = np.copy(image)\n",
    "\n",
    "# Change color to RGB (from BGR)\n",
    "image = cv2.cvtColor(image_copy, cv2.COLOR_BGR2RGB)\n",
    "\n",
    "plt.imshow(image)"
   ],
   "execution_count": 2,
   "outputs": []
  },
  {
   "cell_type": "markdown",
   "metadata": {},
   "source": [
    "### Plot color channels"
   ]
  },
  {
   "cell_type": "code",
   "metadata": {
    "ExecuteTime": {
     "end_time": "2024-04-30T21:37:01.321837Z",
     "start_time": "2024-04-30T21:37:00.813279Z"
    }
   },
   "source": [
    "# RGB channels\n",
    "r = image[:,:,0]\n",
    "g = image[:,:,1]\n",
    "b = image[:,:,2]\n",
    "\n",
    "f, (ax1, ax2, ax3) = plt.subplots(1, 3, figsize=(20,10))\n",
    "\n",
    "ax1.set_title('Red')\n",
    "ax1.imshow(r, cmap='gray')\n",
    "\n",
    "ax2.set_title('Green')\n",
    "ax2.imshow(g, cmap='gray')\n",
    "\n",
    "ax3.set_title('Blue')\n",
    "ax3.imshow(b, cmap='gray')\n"
   ],
   "execution_count": 3,
   "outputs": []
  },
  {
   "cell_type": "code",
   "metadata": {
    "ExecuteTime": {
     "end_time": "2024-04-30T21:37:06.496536Z",
     "start_time": "2024-04-30T21:37:06.019323Z"
    }
   },
   "source": [
    "# Convert from RGB to HSV\n",
    "hsv = cv2.cvtColor(image, cv2.COLOR_RGB2HSV)\n",
    "\n",
    "# HSV channels\n",
    "h = hsv[:,:,0]\n",
    "s = hsv[:,:,1]\n",
    "v = hsv[:,:,2]\n",
    "\n",
    "f, (ax1, ax2, ax3) = plt.subplots(1, 3, figsize=(20,10))\n",
    "\n",
    "ax1.set_title('Hue')\n",
    "ax1.imshow(h, cmap='gray')\n",
    "\n",
    "ax2.set_title('Saturation')\n",
    "ax2.imshow(s, cmap='gray')\n",
    "\n",
    "ax3.set_title('Value')\n",
    "ax3.imshow(v, cmap='gray')\n"
   ],
   "execution_count": 4,
   "outputs": []
  },
  {
   "cell_type": "markdown",
   "metadata": {},
   "source": [
    "### Define pink and hue selection thresholds"
   ]
  },
  {
   "cell_type": "code",
   "metadata": {
    "collapsed": true,
    "ExecuteTime": {
     "end_time": "2024-04-30T21:37:18.327489Z",
     "start_time": "2024-04-30T21:37:18.324021Z"
    }
   },
   "source": [
    "# Define our color selection criteria in HSV values\n",
    "lower_hue = np.array([160,0,0]) \n",
    "upper_hue = np.array([180,255,255])\n"
   ],
   "execution_count": 5,
   "outputs": []
  },
  {
   "cell_type": "code",
   "metadata": {
    "collapsed": true,
    "ExecuteTime": {
     "end_time": "2024-04-30T21:37:50.328658Z",
     "start_time": "2024-04-30T21:37:50.325567Z"
    }
   },
   "source": [
    "# Define our color selection criteria in RGB values\n",
    "lower_pink = np.array([180,0,100]) \n",
    "upper_pink = np.array([255,255,230])"
   ],
   "execution_count": 6,
   "outputs": []
  },
  {
   "cell_type": "markdown",
   "metadata": {},
   "source": [
    "### Mask the image "
   ]
  },
  {
   "cell_type": "code",
   "metadata": {
    "ExecuteTime": {
     "end_time": "2024-04-30T21:37:52.375278Z",
     "start_time": "2024-04-30T21:37:52.182019Z"
    }
   },
   "source": [
    "# Define the masked area in RGB space\n",
    "mask_rgb = cv2.inRange(image, lower_pink, upper_pink)\n",
    "\n",
    "# mask the image\n",
    "masked_image = np.copy(image)\n",
    "masked_image[mask_rgb==0] = [0,0,0]\n",
    "\n",
    "# Vizualize the mask\n",
    "plt.imshow(masked_image)"
   ],
   "execution_count": 7,
   "outputs": []
  },
  {
   "cell_type": "code",
   "metadata": {
    "ExecuteTime": {
     "end_time": "2024-04-30T21:37:53.569276Z",
     "start_time": "2024-04-30T21:37:53.380683Z"
    }
   },
   "source": [
    "# Now try HSV!\n",
    "\n",
    "# Define the masked area in HSV space\n",
    "mask_hsv = cv2.inRange(hsv, lower_hue, upper_hue)\n",
    "\n",
    "# mask the image\n",
    "masked_image = np.copy(image)\n",
    "masked_image[mask_hsv==0] = [0,0,0]\n",
    "\n",
    "# Vizualize the mask\n",
    "plt.imshow(masked_image)"
   ],
   "execution_count": 8,
   "outputs": []
  },
  {
   "metadata": {},
   "cell_type": "code",
   "execution_count": null,
   "source": "",
   "outputs": []
  }
 ],
 "metadata": {
  "anaconda-cloud": {},
  "kernelspec": {
   "display_name": "Python 3",
   "language": "python",
   "name": "python3"
  },
  "language_info": {
   "codemirror_mode": {
    "name": "ipython",
    "version": 3
   },
   "file_extension": ".py",
   "mimetype": "text/x-python",
   "name": "python",
   "nbconvert_exporter": "python",
   "pygments_lexer": "ipython3",
   "version": "3.6.3"
  }
 },
 "nbformat": 4,
 "nbformat_minor": 1
}
