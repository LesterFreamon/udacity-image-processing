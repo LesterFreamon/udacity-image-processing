{
 "cells": [
  {
   "cell_type": "markdown",
   "metadata": {},
   "source": [
    "# CNN for Classification\n",
    "---\n",
    "In this and the next notebook, we define **and train** a CNN to classify images from the [Fashion-MNIST database](https://github.com/zalandoresearch/fashion-mnist). \n",
    "\n",
    "We are providing two solutions to show you how different network structures and training strategies can affect the performance and accuracy of a CNN. This first solution will be a simple CNN with two convolutional layers. \n",
    "\n",
    "Please note that this is just one possible solution out of many!"
   ]
  },
  {
   "cell_type": "markdown",
   "metadata": {},
   "source": [
    "### Load the [data](http://pytorch.org/docs/master/torchvision/datasets.html)\n",
    "\n",
    "In this cell, we load in both **training and test** datasets from the FashionMNIST class."
   ]
  },
  {
   "cell_type": "code",
   "metadata": {
    "ExecuteTime": {
     "end_time": "2024-05-02T17:23:42.181958Z",
     "start_time": "2024-05-02T17:23:40.963561Z"
    }
   },
   "source": [
    "# our basic libraries\n",
    "import torch\n",
    "import torchvision\n",
    "\n",
    "# data loading and transforming\n",
    "from torchvision.datasets import FashionMNIST\n",
    "from torch.utils.data import DataLoader\n",
    "from torchvision import transforms\n",
    "\n",
    "# The output of torchvision datasets are PILImage images of range [0, 1]. \n",
    "# We transform them to Tensors for input into a CNN\n",
    "\n",
    "## Define a transform to read the data in as a tensor\n",
    "data_transform = transforms.ToTensor()\n",
    "\n",
    "# choose the training and test datasets\n",
    "train_data = FashionMNIST(root='./data', train=True,\n",
    "                                   download=True, transform=data_transform)\n",
    "\n",
    "test_data = FashionMNIST(root='./data', train=False,\n",
    "                                  download=True, transform=data_transform)\n",
    "\n",
    "\n",
    "# Print out some stats about the training and test data\n",
    "print('Train data, number of images: ', len(train_data))\n",
    "print('Test data, number of images: ', len(test_data))"
   ],
   "outputs": [
    {
     "name": "stdout",
     "output_type": "stream",
     "text": [
      "Train data, number of images:  60000\n",
      "Test data, number of images:  10000\n"
     ]
    }
   ],
   "execution_count": 1
  },
  {
   "cell_type": "code",
   "metadata": {
    "collapsed": true,
    "ExecuteTime": {
     "end_time": "2024-05-02T17:23:42.720045Z",
     "start_time": "2024-05-02T17:23:42.716188Z"
    }
   },
   "source": [
    "# prepare data loaders, set the batch_size\n",
    "## TODO: you can try changing the batch_size to be larger or smaller\n",
    "## when you get to training your network, see how batch_size affects the loss\n",
    "batch_size = 20\n",
    "\n",
    "train_loader = DataLoader(train_data, batch_size=batch_size, shuffle=True)\n",
    "test_loader = DataLoader(test_data, batch_size=batch_size, shuffle=True)\n",
    "\n",
    "# specify the image classes\n",
    "classes = ['T-shirt/top', 'Trouser', 'Pullover', 'Dress', 'Coat', \n",
    "           'Sandal', 'Shirt', 'Sneaker', 'Bag', 'Ankle boot']"
   ],
   "outputs": [],
   "execution_count": 2
  },
  {
   "cell_type": "markdown",
   "metadata": {},
   "source": [
    "### Visualize some training data\n",
    "\n",
    "This cell iterates over the training dataset, loading a random batch of image/label data, using `dataiter.next()`. It then plots the batch of images and labels in a `2 x batch_size/2` grid."
   ]
  },
  {
   "cell_type": "code",
   "metadata": {
    "ExecuteTime": {
     "end_time": "2024-05-02T17:23:43.876833Z",
     "start_time": "2024-05-02T17:23:43.389212Z"
    }
   },
   "source": [
    "import numpy as np\n",
    "import matplotlib.pyplot as plt\n",
    "\n",
    "%matplotlib inline\n",
    "    \n",
    "# obtain one batch of training images\n",
    "dataiter = iter(train_loader)\n",
    "images, labels = dataiter.next()\n",
    "images = images.numpy()\n",
    "\n",
    "# plot the images in the batch, along with the corresponding labels\n",
    "fig = plt.figure(figsize=(25, 4))\n",
    "for idx in np.arange(batch_size):\n",
    "    ax = fig.add_subplot(2, batch_size/2, idx+1, xticks=[], yticks=[])\n",
    "    ax.imshow(np.squeeze(images[idx]), cmap='gray')\n",
    "    ax.set_title(classes[labels[idx]])"
   ],
   "outputs": [
    {
     "ename": "AttributeError",
     "evalue": "'_SingleProcessDataLoaderIter' object has no attribute 'next'",
     "output_type": "error",
     "traceback": [
      "\u001B[0;31m---------------------------------------------------------------------------\u001B[0m",
      "\u001B[0;31mAttributeError\u001B[0m                            Traceback (most recent call last)",
      "Cell \u001B[0;32mIn[3], line 8\u001B[0m\n\u001B[1;32m      6\u001B[0m \u001B[38;5;66;03m# obtain one batch of training images\u001B[39;00m\n\u001B[1;32m      7\u001B[0m dataiter \u001B[38;5;241m=\u001B[39m \u001B[38;5;28miter\u001B[39m(train_loader)\n\u001B[0;32m----> 8\u001B[0m images, labels \u001B[38;5;241m=\u001B[39m \u001B[43mdataiter\u001B[49m\u001B[38;5;241;43m.\u001B[39;49m\u001B[43mnext\u001B[49m()\n\u001B[1;32m      9\u001B[0m images \u001B[38;5;241m=\u001B[39m images\u001B[38;5;241m.\u001B[39mnumpy()\n\u001B[1;32m     11\u001B[0m \u001B[38;5;66;03m# plot the images in the batch, along with the corresponding labels\u001B[39;00m\n",
      "\u001B[0;31mAttributeError\u001B[0m: '_SingleProcessDataLoaderIter' object has no attribute 'next'"
     ]
    }
   ],
   "execution_count": 3
  },
  {
   "cell_type": "markdown",
   "metadata": {},
   "source": [
    "### Define the network architecture\n",
    "\n",
    "The various layers that make up any neural network are documented, [here](http://pytorch.org/docs/master/nn.html). For a convolutional neural network, we'll use a simple series of layers:\n",
    "* Convolutional layers\n",
    "* Maxpooling layers\n",
    "* Fully-connected (linear) layers\n",
    "\n",
    "You are also encouraged to look at adding [dropout layers](http://pytorch.org/docs/stable/nn.html#dropout) to avoid overfitting this data.\n",
    "\n",
    "---\n",
    "\n",
    "To define a neural network in PyTorch, you define the layers of a model in the function `__init__` and define the feedforward behavior of a network that employs those initialized layers in the function `forward`, which takes in an input image tensor, `x`. The structure of this Net class is shown below and left for you to fill in.\n",
    "\n",
    "Note: During training, PyTorch will be able to perform backpropagation by keeping track of the network's feedforward behavior and using autograd to calculate the update to the weights in the network.\n",
    "\n",
    "#### Define the Layers in ` __init__`\n",
    "As a reminder, a conv/pool layer may be defined like this (in `__init__`):\n",
    "```\n",
    "# 1 input image channel (for grayscale images), 32 output channels/feature maps, 3x3 square convolution kernel\n",
    "self.conv1 = nn.Conv2d(1, 32, 3)\n",
    "\n",
    "# maxpool that uses a square window of kernel_size=2, stride=2\n",
    "self.pool = nn.MaxPool2d(2, 2)      \n",
    "```\n",
    "\n",
    "#### Refer to Layers in `forward`\n",
    "Then referred to in the `forward` function like this, in which the conv1 layer has a ReLu activation applied to it before maxpooling is applied:\n",
    "```\n",
    "x = self.pool(F.relu(self.conv1(x)))\n",
    "```\n",
    "\n",
    "You must place any layers with trainable weights, such as convolutional layers, in the `__init__` function and refer to them in the `forward` function; any layers or functions that always behave in the same way, such as a pre-defined activation function, may appear *only* in the `forward` function. In practice, you'll often see conv/pool layers defined in `__init__` and activations defined in `forward`.\n",
    "\n",
    "#### Convolutional layer\n",
    "The first convolution layer has been defined for you, it takes in a 1 channel (grayscale) image and outputs 10 feature maps as output, after convolving the image with 3x3 filters.\n",
    "\n",
    "#### Flattening\n",
    "\n",
    "Recall that to move from the output of a convolutional/pooling layer to a linear layer, you must first flatten your extracted features into a vector. If you've used the deep learning library, Keras, you may have seen this done by `Flatten()`, and in PyTorch you can flatten an input `x` with `x = x.view(x.size(0), -1)`.\n",
    "\n",
    "### TODO: Define the rest of the layers\n",
    "\n",
    "It will be up to you to define the other layers in this network; we have some recommendations, but you may change the architecture and parameters as you see fit.\n",
    "\n",
    "Recommendations/tips:\n",
    "* Use at least two convolutional layers\n",
    "* Your output must be a linear layer with 10 outputs (for the 10 classes of clothing)\n",
    "* Use a dropout layer to avoid overfitting\n",
    "\n",
    "### A note on output size\n",
    "\n",
    "For any convolutional layer, the output feature maps will have the specified depth (a depth of 10 for 10 filters in a convolutional layer) and the dimensions of the produced feature maps (width/height) can be computed as the _input image_ width/height, W, minus the filter size, F, divided by the stride, S, all + 1. The equation looks like: `output_dim = (W-F)/S + 1`, for an assumed padding size of 0. You can find a derivation of this formula, [here](http://cs231n.github.io/convolutional-networks/#conv).\n",
    "\n",
    "For a pool layer with a size 2 and stride 2, the output dimension will be reduced by a factor of 2. Read the comments in the code below to see the output size for each layer."
   ]
  },
  {
   "cell_type": "code",
   "metadata": {
    "ExecuteTime": {
     "end_time": "2024-05-02T17:23:44.204052Z",
     "start_time": "2024-05-02T17:23:44.197551Z"
    }
   },
   "source": [
    "import torch.nn as nn\n",
    "import torch.nn.functional as F\n",
    "\n",
    "class Net(nn.Module):\n",
    "\n",
    "    def __init__(self):\n",
    "        super(Net, self).__init__()\n",
    "        \n",
    "        # 1 input image channel (grayscale), 10 output channels/feature maps\n",
    "        # 3x3 square convolution kernel\n",
    "        ## output size = (W-F)/S +1 = (28-3)/1 +1 = 26\n",
    "        # the output Tensor for one image, will have the dimensions: (10, 26, 26)\n",
    "        # after one pool layer, this becomes (10, 13, 13)\n",
    "        self.conv1 = nn.Conv2d(1, 10, 3)\n",
    "        \n",
    "        # maxpool layer\n",
    "        # pool with kernel_size=2, stride=2\n",
    "        self.pool = nn.MaxPool2d(2, 2)\n",
    "        \n",
    "        # second conv layer: 10 inputs, 20 outputs, 3x3 conv\n",
    "        ## output size = (W-F)/S +1 = (13-3)/1 +1 = 11\n",
    "        # the output tensor will have dimensions: (20, 11, 11)\n",
    "        # after another pool layer this becomes (20, 5, 5); 5.5 is rounded down\n",
    "        self.conv2 = nn.Conv2d(10, 20, 3)\n",
    "        \n",
    "        # 20 outputs * the 5*5 filtered/pooled map size\n",
    "        # 10 output channels (for the 10 classes)\n",
    "        self.fc1 = nn.Linear(20*5*5, 10)\n",
    "        \n",
    "\n",
    "    # define the feedforward behavior\n",
    "    def forward(self, x):\n",
    "        # two conv/relu + pool layers\n",
    "        x = self.pool(F.relu(self.conv1(x)))\n",
    "        x = self.pool(F.relu(self.conv2(x)))\n",
    "\n",
    "        # prep for linear layer\n",
    "        # flatten the inputs into a vector\n",
    "        x = x.view(x.size(0), -1)\n",
    "        \n",
    "        # one linear layer\n",
    "        x = self.fc1(x)\n",
    "        # a softmax layer to convert the 10 outputs into a distribution of class scores\n",
    "        x = F.log_softmax(x, dim=1)\n",
    "        \n",
    "        # final output\n",
    "        return x\n",
    "\n",
    "# instantiate and print your Net\n",
    "net = Net()\n",
    "print(net)"
   ],
   "outputs": [
    {
     "name": "stdout",
     "output_type": "stream",
     "text": [
      "Net(\n",
      "  (conv1): Conv2d(1, 10, kernel_size=(3, 3), stride=(1, 1))\n",
      "  (pool): MaxPool2d(kernel_size=2, stride=2, padding=0, dilation=1, ceil_mode=False)\n",
      "  (conv2): Conv2d(10, 20, kernel_size=(3, 3), stride=(1, 1))\n",
      "  (fc1): Linear(in_features=500, out_features=10, bias=True)\n",
      ")\n"
     ]
    }
   ],
   "execution_count": 4
  },
  {
   "cell_type": "markdown",
   "metadata": {},
   "source": [
    "### TODO: Specify the loss function and optimizer\n",
    "\n",
    "Learn more about [loss functions](http://pytorch.org/docs/master/nn.html#loss-functions) and [optimizers](http://pytorch.org/docs/master/optim.html) in the online documentation.\n",
    "\n",
    "Note that for a classification problem like this, one typically uses cross entropy loss, which can be defined in code like: `criterion = nn.CrossEntropyLoss()`; cross entropy loss combines `softmax` and `NLL loss` so, alternatively (as in this example), you may see NLL Loss being used when the output of our Net is a distribution of class scores. \n",
    "\n",
    "PyTorch also includes some standard stochastic optimizers like stochastic gradient descent and Adam. You're encouraged to try different optimizers and see how your model responds to these choices as it trains.\n"
   ]
  },
  {
   "cell_type": "code",
   "metadata": {
    "collapsed": true,
    "ExecuteTime": {
     "end_time": "2024-05-02T17:23:45.997098Z",
     "start_time": "2024-05-02T17:23:45.994235Z"
    }
   },
   "source": [
    "import torch.optim as optim\n",
    "\n",
    "## TODO: specify loss function \n",
    "# cross entropy loss combines softmax and nn.NLLLoss() in one single class.\n",
    "criterion = nn.NLLLoss()\n",
    "\n",
    "## TODO: specify optimizer \n",
    "# stochastic gradient descent with a small learning rate\n",
    "optimizer = optim.SGD(net.parameters(), lr=0.001)"
   ],
   "outputs": [],
   "execution_count": 5
  },
  {
   "cell_type": "markdown",
   "metadata": {},
   "source": [
    "### A note on accuracy\n",
    "\n",
    "It's interesting to look at the accuracy of your network **before and after** training. This way you can really see that your network has learned something. In the next cell, let's see what the accuracy of an untrained network is (we expect it to be around 10% which is the same accuracy as just guessing for all 10 classes)."
   ]
  },
  {
   "cell_type": "code",
   "metadata": {
    "ExecuteTime": {
     "end_time": "2024-05-02T17:23:47.975689Z",
     "start_time": "2024-05-02T17:23:47.126562Z"
    }
   },
   "source": [
    "# Calculate accuracy before training\n",
    "correct = 0\n",
    "total = 0\n",
    "\n",
    "# Iterate through test dataset\n",
    "for images, labels in test_loader:\n",
    "\n",
    "    # forward pass to get outputs\n",
    "    # the outputs are a series of class scores\n",
    "    outputs = net(images)\n",
    "\n",
    "    # get the predicted class from the maximum value in the output-list of class scores\n",
    "    _, predicted = torch.max(outputs.data, 1)\n",
    "\n",
    "    # count up total number of correct labels\n",
    "    # for which the predicted and true labels are equal\n",
    "    total += labels.size(0)\n",
    "    correct += (predicted == labels).sum()\n",
    "\n",
    "# calculate the accuracy\n",
    "# to convert `correct` from a Tensor into a scalar, use .item()\n",
    "accuracy = 100.0 * correct.item() / total\n",
    "\n",
    "# print it out!\n",
    "print('Accuracy before training: ', accuracy)"
   ],
   "outputs": [
    {
     "name": "stdout",
     "output_type": "stream",
     "text": [
      "Accuracy before training:  10.32\n"
     ]
    }
   ],
   "execution_count": 6
  },
  {
   "cell_type": "markdown",
   "metadata": {},
   "source": [
    "### Train the Network\n",
    "\n",
    "Below, we've defined a `train` function that takes in a number of epochs to train for. \n",
    "* The number of epochs is how many times a network will cycle through the entire training dataset. \n",
    "* Inside the epoch loop, we loop over the training dataset in batches; recording the loss every 1000 batches.\n",
    "\n",
    "Here are the steps that this training function performs as it iterates over the training dataset:\n",
    "\n",
    "1. Zero's the gradients to prepare for a forward pass\n",
    "2. Passes the input through the network (forward pass)\n",
    "3. Computes the loss (how far is the predicted classes are from the correct labels)\n",
    "4. Propagates gradients back into the network’s parameters (backward pass)\n",
    "5. Updates the weights (parameter update)\n",
    "6. Prints out the calculated loss\n",
    "\n"
   ]
  },
  {
   "cell_type": "code",
   "metadata": {
    "collapsed": true,
    "ExecuteTime": {
     "end_time": "2024-05-02T17:23:50.266645Z",
     "start_time": "2024-05-02T17:23:50.260327Z"
    }
   },
   "source": [
    "def train(n_epochs):\n",
    "    \n",
    "    loss_over_time = [] # to track the loss as the network trains\n",
    "    \n",
    "    for epoch in range(n_epochs):  # loop over the dataset multiple times\n",
    "        \n",
    "        running_loss = 0.0\n",
    "        \n",
    "        for batch_i, data in enumerate(train_loader):\n",
    "            # get the input images and their corresponding labels\n",
    "            inputs, labels = data\n",
    "\n",
    "            # zero the parameter (weight) gradients\n",
    "            optimizer.zero_grad()\n",
    "\n",
    "            # forward pass to get outputs\n",
    "            outputs = net(inputs)\n",
    "\n",
    "            # calculate the loss\n",
    "            loss = criterion(outputs, labels)\n",
    "\n",
    "            # backward pass to calculate the parameter gradients\n",
    "            loss.backward()\n",
    "\n",
    "            # update the parameters\n",
    "            optimizer.step()\n",
    "\n",
    "            # print loss statistics\n",
    "            # to convert loss into a scalar and add it to running_loss, we use .item()\n",
    "            running_loss += loss.item()\n",
    "            \n",
    "            if batch_i % 1000 == 999:    # print every 1000 batches\n",
    "                avg_loss = running_loss/1000\n",
    "                # record and print the avg loss over the 1000 batches\n",
    "                loss_over_time.append(avg_loss)\n",
    "                print('Epoch: {}, Batch: {}, Avg. Loss: {}'.format(epoch + 1, batch_i+1, avg_loss))\n",
    "                running_loss = 0.0\n",
    "\n",
    "    print('Finished Training')\n",
    "    return loss_over_time\n"
   ],
   "outputs": [],
   "execution_count": 7
  },
  {
   "cell_type": "code",
   "metadata": {
    "ExecuteTime": {
     "end_time": "2024-05-02T17:28:26.080362Z",
     "start_time": "2024-05-02T17:23:53.921377Z"
    }
   },
   "source": [
    "# define the number of epochs to train for\n",
    "n_epochs = 30 # start small to see if your model works, initially\n",
    "\n",
    "# call train and record the loss over time\n",
    "training_loss = train(n_epochs)"
   ],
   "outputs": [
    {
     "name": "stdout",
     "output_type": "stream",
     "text": [
      "Epoch: 1, Batch: 1000, Avg. Loss: 2.224639577627182\n",
      "Epoch: 1, Batch: 2000, Avg. Loss: 1.681679444372654\n",
      "Epoch: 1, Batch: 3000, Avg. Loss: 1.0152589651048183\n",
      "Epoch: 2, Batch: 1000, Avg. Loss: 0.8616304679811001\n",
      "Epoch: 2, Batch: 2000, Avg. Loss: 0.8019232197105884\n",
      "Epoch: 2, Batch: 3000, Avg. Loss: 0.7609482335150242\n",
      "Epoch: 3, Batch: 1000, Avg. Loss: 0.7383929109573364\n",
      "Epoch: 3, Batch: 2000, Avg. Loss: 0.7243318611681462\n",
      "Epoch: 3, Batch: 3000, Avg. Loss: 0.6965887412726879\n",
      "Epoch: 4, Batch: 1000, Avg. Loss: 0.6904204244464636\n",
      "Epoch: 4, Batch: 2000, Avg. Loss: 0.6782856868505478\n",
      "Epoch: 4, Batch: 3000, Avg. Loss: 0.6537471656501294\n",
      "Epoch: 5, Batch: 1000, Avg. Loss: 0.652935482442379\n",
      "Epoch: 5, Batch: 2000, Avg. Loss: 0.6347597706913948\n",
      "Epoch: 5, Batch: 3000, Avg. Loss: 0.6290296626538038\n",
      "Epoch: 6, Batch: 1000, Avg. Loss: 0.610760661393404\n",
      "Epoch: 6, Batch: 2000, Avg. Loss: 0.6152757143080234\n",
      "Epoch: 6, Batch: 3000, Avg. Loss: 0.6030966587066651\n",
      "Epoch: 7, Batch: 1000, Avg. Loss: 0.5975721056312323\n",
      "Epoch: 7, Batch: 2000, Avg. Loss: 0.5852103233784437\n",
      "Epoch: 7, Batch: 3000, Avg. Loss: 0.5695941410511732\n",
      "Epoch: 8, Batch: 1000, Avg. Loss: 0.5685020455569029\n",
      "Epoch: 8, Batch: 2000, Avg. Loss: 0.5577356105968356\n",
      "Epoch: 8, Batch: 3000, Avg. Loss: 0.5566878018006682\n",
      "Epoch: 9, Batch: 1000, Avg. Loss: 0.5411257896199823\n",
      "Epoch: 9, Batch: 2000, Avg. Loss: 0.5419271853938699\n",
      "Epoch: 9, Batch: 3000, Avg. Loss: 0.544940186008811\n",
      "Epoch: 10, Batch: 1000, Avg. Loss: 0.5222781662195921\n",
      "Epoch: 10, Batch: 2000, Avg. Loss: 0.5342396995276213\n",
      "Epoch: 10, Batch: 3000, Avg. Loss: 0.5216898615956307\n",
      "Epoch: 11, Batch: 1000, Avg. Loss: 0.5172810479700566\n",
      "Epoch: 11, Batch: 2000, Avg. Loss: 0.5144012691527605\n",
      "Epoch: 11, Batch: 3000, Avg. Loss: 0.5054674089774489\n",
      "Epoch: 12, Batch: 1000, Avg. Loss: 0.49842416459321975\n",
      "Epoch: 12, Batch: 2000, Avg. Loss: 0.5024818867519498\n",
      "Epoch: 12, Batch: 3000, Avg. Loss: 0.49942653120309116\n",
      "Epoch: 13, Batch: 1000, Avg. Loss: 0.49584448464214803\n",
      "Epoch: 13, Batch: 2000, Avg. Loss: 0.4845588301047683\n",
      "Epoch: 13, Batch: 3000, Avg. Loss: 0.48683804269880054\n",
      "Epoch: 14, Batch: 1000, Avg. Loss: 0.4781166593804955\n",
      "Epoch: 14, Batch: 2000, Avg. Loss: 0.4788824035562575\n",
      "Epoch: 14, Batch: 3000, Avg. Loss: 0.48608306923508643\n",
      "Epoch: 15, Batch: 1000, Avg. Loss: 0.4657071474939585\n",
      "Epoch: 15, Batch: 2000, Avg. Loss: 0.47873632004857064\n",
      "Epoch: 15, Batch: 3000, Avg. Loss: 0.4732270465195179\n",
      "Epoch: 16, Batch: 1000, Avg. Loss: 0.4701274963468313\n",
      "Epoch: 16, Batch: 2000, Avg. Loss: 0.47890525302290915\n",
      "Epoch: 16, Batch: 3000, Avg. Loss: 0.447938109382987\n",
      "Epoch: 17, Batch: 1000, Avg. Loss: 0.4630969593822956\n",
      "Epoch: 17, Batch: 2000, Avg. Loss: 0.4522171211019158\n",
      "Epoch: 17, Batch: 3000, Avg. Loss: 0.4616351026445627\n",
      "Epoch: 18, Batch: 1000, Avg. Loss: 0.44053214690834286\n",
      "Epoch: 18, Batch: 2000, Avg. Loss: 0.45560731960088013\n",
      "Epoch: 18, Batch: 3000, Avg. Loss: 0.46516795266419647\n",
      "Epoch: 19, Batch: 1000, Avg. Loss: 0.4536067054346204\n",
      "Epoch: 19, Batch: 2000, Avg. Loss: 0.4418106186017394\n",
      "Epoch: 19, Batch: 3000, Avg. Loss: 0.4499121394753456\n",
      "Epoch: 20, Batch: 1000, Avg. Loss: 0.4516848841756582\n",
      "Epoch: 20, Batch: 2000, Avg. Loss: 0.44919966769590974\n",
      "Epoch: 20, Batch: 3000, Avg. Loss: 0.4310000521503389\n",
      "Epoch: 21, Batch: 1000, Avg. Loss: 0.4385170736014843\n",
      "Epoch: 21, Batch: 2000, Avg. Loss: 0.44371449476853014\n",
      "Epoch: 21, Batch: 3000, Avg. Loss: 0.4356299195289612\n",
      "Epoch: 22, Batch: 1000, Avg. Loss: 0.4399835327938199\n",
      "Epoch: 22, Batch: 2000, Avg. Loss: 0.4403064601048827\n",
      "Epoch: 22, Batch: 3000, Avg. Loss: 0.4245774010941386\n",
      "Epoch: 23, Batch: 1000, Avg. Loss: 0.4301341858096421\n",
      "Epoch: 23, Batch: 2000, Avg. Loss: 0.4380754662528634\n",
      "Epoch: 23, Batch: 3000, Avg. Loss: 0.42544275572150947\n",
      "Epoch: 24, Batch: 1000, Avg. Loss: 0.43126592734083535\n",
      "Epoch: 24, Batch: 2000, Avg. Loss: 0.4280221432819962\n",
      "Epoch: 24, Batch: 3000, Avg. Loss: 0.42288040718436243\n",
      "Epoch: 25, Batch: 1000, Avg. Loss: 0.43411399544030427\n",
      "Epoch: 25, Batch: 2000, Avg. Loss: 0.42417296808958055\n",
      "Epoch: 25, Batch: 3000, Avg. Loss: 0.41287225890159607\n",
      "Epoch: 26, Batch: 1000, Avg. Loss: 0.42455707385390995\n",
      "Epoch: 26, Batch: 2000, Avg. Loss: 0.4157027930095792\n",
      "Epoch: 26, Batch: 3000, Avg. Loss: 0.4186379151493311\n",
      "Epoch: 27, Batch: 1000, Avg. Loss: 0.41834341375529766\n",
      "Epoch: 27, Batch: 2000, Avg. Loss: 0.4186107572168112\n",
      "Epoch: 27, Batch: 3000, Avg. Loss: 0.4141783981136978\n",
      "Epoch: 28, Batch: 1000, Avg. Loss: 0.4210624964609742\n",
      "Epoch: 28, Batch: 2000, Avg. Loss: 0.40877001848444344\n",
      "Epoch: 28, Batch: 3000, Avg. Loss: 0.41369111638888717\n",
      "Epoch: 29, Batch: 1000, Avg. Loss: 0.41787188674509523\n",
      "Epoch: 29, Batch: 2000, Avg. Loss: 0.4036247244477272\n",
      "Epoch: 29, Batch: 3000, Avg. Loss: 0.41321650839969515\n",
      "Epoch: 30, Batch: 1000, Avg. Loss: 0.40396415403857827\n",
      "Epoch: 30, Batch: 2000, Avg. Loss: 0.4138347030282021\n",
      "Epoch: 30, Batch: 3000, Avg. Loss: 0.40678778853639963\n",
      "Finished Training\n"
     ]
    }
   ],
   "execution_count": 8
  },
  {
   "cell_type": "markdown",
   "metadata": {},
   "source": [
    "## Visualizing the loss\n",
    "\n",
    "A good indication of how much your network is learning as it trains is the loss over time. In this example, we printed and recorded the average loss for each 1000 batches and for each epoch. Let's plot it and see how the loss decreases (or doesn't) over time.\n",
    "\n",
    "In this case, you can see that it takes a little bit for a big initial loss decrease, and the loss is flattening out over time."
   ]
  },
  {
   "cell_type": "code",
   "metadata": {
    "ExecuteTime": {
     "end_time": "2024-05-02T17:29:02.330020Z",
     "start_time": "2024-05-02T17:29:02.235193Z"
    }
   },
   "source": [
    "# visualize the loss as the network trained\n",
    "plt.plot(training_loss)\n",
    "plt.xlabel('1000\\'s of batches')\n",
    "plt.ylabel('loss')\n",
    "plt.ylim(0, 2.5) # consistent scale\n",
    "plt.show()"
   ],
   "outputs": [
    {
     "data": {
      "text/plain": [
       "<Figure size 640x480 with 1 Axes>"
      ],
      "image/png": "[encoded data removed]"
     },
     "metadata": {},
     "output_type": "display_data"
    }
   ],
   "execution_count": 9
  },
  {
   "cell_type": "markdown",
   "metadata": {},
   "source": [
    "### Test the Trained Network\n",
    "\n",
    "Once you are satisfied with how the loss of your model has decreased, there is one last step: test!\n",
    "\n",
    "You must test your trained model on a previously unseen dataset to see if it generalizes well and can accurately classify this new dataset. For FashionMNIST, which contains many pre-processed training images, a good model should reach **greater than 85% accuracy** on this test dataset. If you are not reaching this value, try training for a larger number of epochs, tweaking your hyperparameters, or adding/subtracting layers from your CNN."
   ]
  },
  {
   "cell_type": "code",
   "metadata": {
    "ExecuteTime": {
     "end_time": "2024-05-02T17:29:04.260077Z",
     "start_time": "2024-05-02T17:29:03.103539Z"
    }
   },
   "source": [
    "# initialize tensor and lists to monitor test loss and accuracy\n",
    "test_loss = torch.zeros(1)\n",
    "class_correct = list(0. for i in range(10))\n",
    "class_total = list(0. for i in range(10))\n",
    "\n",
    "# set the module to evaluation mode\n",
    "net.eval()\n",
    "\n",
    "for batch_i, data in enumerate(test_loader):\n",
    "    \n",
    "    # get the input images and their corresponding labels\n",
    "    inputs, labels = data\n",
    "    \n",
    "    # forward pass to get outputs\n",
    "    outputs = net(inputs)\n",
    "\n",
    "    # calculate the loss\n",
    "    loss = criterion(outputs, labels)\n",
    "            \n",
    "    # update average test loss \n",
    "    test_loss = test_loss + ((torch.ones(1) / (batch_i + 1)) * (loss.data - test_loss))\n",
    "    \n",
    "    # get the predicted class from the maximum value in the output-list of class scores\n",
    "    _, predicted = torch.max(outputs.data, 1)\n",
    "    \n",
    "    # compare predictions to true label\n",
    "    # this creates a `correct` Tensor that holds the number of correctly classified images in a batch\n",
    "    correct = np.squeeze(predicted.eq(labels.data.view_as(predicted)))\n",
    "    \n",
    "    # calculate test accuracy for *each* object class\n",
    "    # we get the scalar value of correct items for a class, by calling `correct[i].item()`\n",
    "    for i in range(batch_size):\n",
    "        label = labels.data[i]\n",
    "        class_correct[label] += correct[i].item()\n",
    "        class_total[label] += 1\n",
    "\n",
    "print('Test Loss: {:.6f}\\n'.format(test_loss.numpy()[0]))\n",
    "\n",
    "for i in range(10):\n",
    "    if class_total[i] > 0:\n",
    "        print('Test Accuracy of %5s: %2d%% (%2d/%2d)' % (\n",
    "            classes[i], 100 * class_correct[i] / class_total[i],\n",
    "            np.sum(class_correct[i]), np.sum(class_total[i])))\n",
    "    else:\n",
    "        print('Test Accuracy of %5s: N/A (no training examples)' % (classes[i]))\n",
    "\n",
    "        \n",
    "print('\\nTest Accuracy (Overall): %2d%% (%2d/%2d)' % (\n",
    "    100. * np.sum(class_correct) / np.sum(class_total),\n",
    "    np.sum(class_correct), np.sum(class_total)))"
   ],
   "outputs": [
    {
     "name": "stdout",
     "output_type": "stream",
     "text": [
      "Test Loss: 0.425217\n",
      "\n",
      "Test Accuracy of T-shirt/top: 79% (795/1000)\n",
      "Test Accuracy of Trouser: 96% (961/1000)\n",
      "Test Accuracy of Pullover: 75% (756/1000)\n",
      "Test Accuracy of Dress: 88% (884/1000)\n",
      "Test Accuracy of  Coat: 70% (708/1000)\n",
      "Test Accuracy of Sandal: 93% (938/1000)\n",
      "Test Accuracy of Shirt: 60% (608/1000)\n",
      "Test Accuracy of Sneaker: 93% (935/1000)\n",
      "Test Accuracy of   Bag: 95% (959/1000)\n",
      "Test Accuracy of Ankle boot: 94% (940/1000)\n",
      "\n",
      "Test Accuracy (Overall): 84% (8484/10000)\n"
     ]
    }
   ],
   "execution_count": 10
  },
  {
   "cell_type": "markdown",
   "metadata": {},
   "source": [
    "### Visualize sample test results\n",
    "\n",
    "Format: predicted class (true class)"
   ]
  },
  {
   "cell_type": "code",
   "metadata": {
    "ExecuteTime": {
     "end_time": "2024-05-02T17:29:39.226375Z",
     "start_time": "2024-05-02T17:29:38.738942Z"
    }
   },
   "source": [
    "# obtain one batch of test images\n",
    "dataiter = iter(test_loader)\n",
    "images, labels = next(dataiter)\n",
    "# get predictions\n",
    "preds = np.squeeze(net(images).data.max(1, keepdim=True)[1].numpy())\n",
    "images = images.numpy()\n",
    "\n",
    "# plot the images in the batch, along with predicted and true labels\n",
    "fig = plt.figure(figsize=(25, 4))\n",
    "for idx in np.arange(batch_size):\n",
    "    ax = fig.add_subplot(2, int(batch_size/2), idx+1, xticks=[], yticks=[])\n",
    "    ax.imshow(np.squeeze(images[idx]), cmap='gray')\n",
    "    ax.set_title(\"{} ({})\".format(classes[preds[idx]], classes[labels[idx]]),\n",
    "                 color=(\"green\" if preds[idx]==labels[idx] else \"red\"))"
   ],
   "outputs": [
    {
     "data": {
      "text/plain": [
       "<Figure size 2500x400 with 20 Axes>"
      ],
      "image/png": "[encoded data removed]"
     },
     "metadata": {},
     "output_type": "display_data"
    }
   ],
   "execution_count": 13
  },
  {
   "cell_type": "markdown",
   "metadata": {},
   "source": [
    "### Question: What are some weaknesses of your model? (And how might you improve these in future iterations.)"
   ]
  },
  {
   "cell_type": "markdown",
   "metadata": {},
   "source": [
    "**Answer**: This model performs well on everything but shirts and pullovers (0% accuracy); it looks like this incorrectly classifies most of those as a coat which has a similar overall shape. Because it performs well on everything but hese two classes, I suspect this model is overfitting ceratin classes at the cost of generalization. I suspect that this accuracy could be improved by adding some dropout layers to aoid overfitting."
   ]
  },
  {
   "cell_type": "code",
   "metadata": {
    "collapsed": true,
    "ExecuteTime": {
     "end_time": "2024-05-02T17:29:43.198399Z",
     "start_time": "2024-05-02T17:29:43.187500Z"
    }
   },
   "source": [
    "# Saving the model\n",
    "model_dir = 'saved_models/'\n",
    "model_name = 'fashion_net_simple.pt'\n",
    "\n",
    "# after training, save your model parameters in the dir 'saved_models'\n",
    "# when you're ready, un-comment the line below\n",
    "torch.save(net.state_dict(), model_dir+model_name)"
   ],
   "outputs": [],
   "execution_count": 14
  },
  {
   "cell_type": "code",
   "execution_count": null,
   "metadata": {
    "collapsed": true
   },
   "outputs": [],
   "source": []
  }
 ],
 "metadata": {
  "anaconda-cloud": {},
  "kernelspec": {
   "display_name": "Python 3",
   "language": "python",
   "name": "python3"
  },
  "language_info": {
   "codemirror_mode": {
    "name": "ipython",
    "version": 3
   },
   "file_extension": ".py",
   "mimetype": "text/x-python",
   "name": "python",
   "nbconvert_exporter": "python",
   "pygments_lexer": "ipython3",
   "version": "3.6.1"
  },
  "widgets": {
   "state": {},
   "version": "1.1.2"
  }
 },
 "nbformat": 4,
 "nbformat_minor": 2
}
